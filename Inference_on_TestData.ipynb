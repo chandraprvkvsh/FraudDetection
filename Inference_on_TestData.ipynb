{
  "metadata": {
    "kernelspec": {
      "language": "python",
      "display_name": "Python 3",
      "name": "python3"
    },
    "language_info": {
      "name": "python",
      "version": "3.10.13",
      "mimetype": "text/x-python",
      "codemirror_mode": {
        "name": "ipython",
        "version": 3
      },
      "pygments_lexer": "ipython3",
      "nbconvert_exporter": "python",
      "file_extension": ".py"
    },
    "kaggle": {
      "accelerator": "none",
      "dataSources": [
        {
          "sourceId": 7800876,
          "sourceType": "datasetVersion",
          "datasetId": 4567719
        },
        {
          "sourceId": 7809451,
          "sourceType": "datasetVersion",
          "datasetId": 4573877
        },
        {
          "sourceId": 15924,
          "sourceType": "modelInstanceVersion",
          "isSourceIdPinned": true,
          "modelInstanceId": 13263
        }
      ],
      "dockerImageVersionId": 30664,
      "isInternetEnabled": true,
      "language": "python",
      "sourceType": "notebook",
      "isGpuEnabled": false
    },
    "colab": {
      "provenance": []
    }
  },
  "nbformat_minor": 0,
  "nbformat": 4,
  "cells": [
    {
      "cell_type": "markdown",
      "source": [
        "# **Prediction on Test Set**"
      ],
      "metadata": {
        "id": "dGC5RtBtm-LH"
      }
    },
    {
      "cell_type": "markdown",
      "source": [
        "I am re-using the code from Training notebook and not changing any variable names for consistency and ensuring that all transformations are done in the same way as they were done in the test set.\n",
        "\n",
        "So, variables will have names like train, train_inp in this notebook. They are all test ones, Apologies for the inconvinience.\n"
      ],
      "metadata": {
        "id": "R3LTDZlvm-LI"
      }
    },
    {
      "cell_type": "code",
      "source": [
        "#importing basic libraries\n",
        "\n",
        "import numpy as np\n",
        "import pandas as pd\n",
        "import matplotlib.pyplot as plt\n",
        "pd.set_option('display.max_columns', None)"
      ],
      "metadata": {
        "_uuid": "8f2839f25d086af736a60e9eeb907d3b93b6e0e5",
        "_cell_guid": "b1076dfc-b9ad-4769-8c92-a6c4dae69d19",
        "id": "Pm8mheNom-LJ",
        "execution": {
          "iopub.status.busy": "2024-03-13T07:14:11.701067Z",
          "iopub.execute_input": "2024-03-13T07:14:11.702197Z",
          "iopub.status.idle": "2024-03-13T07:14:12.870043Z",
          "shell.execute_reply.started": "2024-03-13T07:14:11.702146Z",
          "shell.execute_reply": "2024-03-13T07:14:12.869088Z"
        },
        "trusted": true
      },
      "execution_count": null,
      "outputs": []
    },
    {
      "cell_type": "markdown",
      "source": [
        "**The purpose of this Notebook is using the best model trained in the training notebook to predict on test set. The reason most of transformation done to the train data are done to the test data by using repeated code is to maintain the same transformations and also as lot of changes were made**"
      ],
      "metadata": {
        "id": "bizOldd9m-LK"
      }
    },
    {
      "cell_type": "code",
      "source": [
        "#importing test dataset\n",
        "\n",
        "train_inp=pd.read_csv('/Test_Inpatientdata-1542969243754.csv')\n",
        "train_out=pd.read_csv('/Test_Outpatientdata-1542969243754.csv')\n",
        "train_ben=pd.read_csv('/Test_Beneficiarydata-1542969243754.csv')\n",
        "train_lab=pd.read_csv('/Test-1542969243754.csv')"
      ],
      "metadata": {
        "id": "ecI3z6fKm-LK",
        "execution": {
          "iopub.status.busy": "2024-03-13T07:14:12.871734Z",
          "iopub.execute_input": "2024-03-13T07:14:12.872440Z",
          "iopub.status.idle": "2024-03-13T07:14:14.368952Z",
          "shell.execute_reply.started": "2024-03-13T07:14:12.872409Z",
          "shell.execute_reply": "2024-03-13T07:14:14.367889Z"
        },
        "trusted": true
      },
      "execution_count": null,
      "outputs": []
    },
    {
      "cell_type": "code",
      "source": [
        "print(train_inp.columns)\n",
        "print(train_inp.shape)"
      ],
      "metadata": {
        "id": "m0qcMpNmm-LK",
        "outputId": "79fa97c2-47d9-4d0a-c756-4a1bf5b78bf4",
        "execution": {
          "iopub.status.busy": "2024-03-13T07:14:14.370117Z",
          "iopub.execute_input": "2024-03-13T07:14:14.370408Z",
          "iopub.status.idle": "2024-03-13T07:14:14.376171Z",
          "shell.execute_reply.started": "2024-03-13T07:14:14.370383Z",
          "shell.execute_reply": "2024-03-13T07:14:14.375066Z"
        },
        "trusted": true
      },
      "execution_count": null,
      "outputs": [
        {
          "name": "stdout",
          "text": "Index(['BeneID', 'ClaimID', 'ClaimStartDt', 'ClaimEndDt', 'Provider',\n       'InscClaimAmtReimbursed', 'AttendingPhysician', 'OperatingPhysician',\n       'OtherPhysician', 'AdmissionDt', 'ClmAdmitDiagnosisCode',\n       'DeductibleAmtPaid', 'DischargeDt', 'DiagnosisGroupCode',\n       'ClmDiagnosisCode_1', 'ClmDiagnosisCode_2', 'ClmDiagnosisCode_3',\n       'ClmDiagnosisCode_4', 'ClmDiagnosisCode_5', 'ClmDiagnosisCode_6',\n       'ClmDiagnosisCode_7', 'ClmDiagnosisCode_8', 'ClmDiagnosisCode_9',\n       'ClmDiagnosisCode_10', 'ClmProcedureCode_1', 'ClmProcedureCode_2',\n       'ClmProcedureCode_3', 'ClmProcedureCode_4', 'ClmProcedureCode_5',\n       'ClmProcedureCode_6'],\n      dtype='object')\n(9551, 30)\n",
          "output_type": "stream"
        }
      ]
    },
    {
      "cell_type": "code",
      "source": [
        "print(train_out.columns)\n",
        "print(train_out.shape)"
      ],
      "metadata": {
        "id": "TnepIx4Fm-LL",
        "outputId": "13c497ea-62a9-44b5-bf37-a3560998db67",
        "execution": {
          "iopub.status.busy": "2024-03-13T07:14:14.378317Z",
          "iopub.execute_input": "2024-03-13T07:14:14.378626Z",
          "iopub.status.idle": "2024-03-13T07:14:14.395183Z",
          "shell.execute_reply.started": "2024-03-13T07:14:14.378600Z",
          "shell.execute_reply": "2024-03-13T07:14:14.393137Z"
        },
        "trusted": true
      },
      "execution_count": null,
      "outputs": [
        {
          "name": "stdout",
          "text": "Index(['BeneID', 'ClaimID', 'ClaimStartDt', 'ClaimEndDt', 'Provider',\n       'InscClaimAmtReimbursed', 'AttendingPhysician', 'OperatingPhysician',\n       'OtherPhysician', 'ClmDiagnosisCode_1', 'ClmDiagnosisCode_2',\n       'ClmDiagnosisCode_3', 'ClmDiagnosisCode_4', 'ClmDiagnosisCode_5',\n       'ClmDiagnosisCode_6', 'ClmDiagnosisCode_7', 'ClmDiagnosisCode_8',\n       'ClmDiagnosisCode_9', 'ClmDiagnosisCode_10', 'ClmProcedureCode_1',\n       'ClmProcedureCode_2', 'ClmProcedureCode_3', 'ClmProcedureCode_4',\n       'ClmProcedureCode_5', 'ClmProcedureCode_6', 'DeductibleAmtPaid',\n       'ClmAdmitDiagnosisCode'],\n      dtype='object')\n(125841, 27)\n",
          "output_type": "stream"
        }
      ]
    },
    {
      "cell_type": "code",
      "source": [
        "print(train_ben.columns)\n",
        "print(train_ben.shape)"
      ],
      "metadata": {
        "id": "aBp2aVLcm-LL",
        "outputId": "8b08678f-953a-4cac-8401-018b364239e3",
        "execution": {
          "iopub.status.busy": "2024-03-13T07:14:14.397183Z",
          "iopub.execute_input": "2024-03-13T07:14:14.397734Z",
          "iopub.status.idle": "2024-03-13T07:14:14.408181Z",
          "shell.execute_reply.started": "2024-03-13T07:14:14.397693Z",
          "shell.execute_reply": "2024-03-13T07:14:14.406798Z"
        },
        "trusted": true
      },
      "execution_count": null,
      "outputs": [
        {
          "name": "stdout",
          "text": "Index(['BeneID', 'DOB', 'DOD', 'Gender', 'Race', 'RenalDiseaseIndicator',\n       'State', 'County', 'NoOfMonths_PartACov', 'NoOfMonths_PartBCov',\n       'ChronicCond_Alzheimer', 'ChronicCond_Heartfailure',\n       'ChronicCond_KidneyDisease', 'ChronicCond_Cancer',\n       'ChronicCond_ObstrPulmonary', 'ChronicCond_Depression',\n       'ChronicCond_Diabetes', 'ChronicCond_IschemicHeart',\n       'ChronicCond_Osteoporasis', 'ChronicCond_rheumatoidarthritis',\n       'ChronicCond_stroke', 'IPAnnualReimbursementAmt',\n       'IPAnnualDeductibleAmt', 'OPAnnualReimbursementAmt',\n       'OPAnnualDeductibleAmt'],\n      dtype='object')\n(63968, 25)\n",
          "output_type": "stream"
        }
      ]
    },
    {
      "cell_type": "code",
      "source": [
        "print(train_lab.columns)\n",
        "print(train_lab.shape)"
      ],
      "metadata": {
        "id": "4A37U7sqm-LL",
        "outputId": "0a6f73be-12f1-4cfc-951b-d3843df19478",
        "execution": {
          "iopub.status.busy": "2024-03-13T07:14:14.409990Z",
          "iopub.execute_input": "2024-03-13T07:14:14.410658Z",
          "iopub.status.idle": "2024-03-13T07:14:14.425155Z",
          "shell.execute_reply.started": "2024-03-13T07:14:14.410625Z",
          "shell.execute_reply": "2024-03-13T07:14:14.423886Z"
        },
        "trusted": true
      },
      "execution_count": null,
      "outputs": [
        {
          "name": "stdout",
          "text": "Index(['Provider'], dtype='object')\n(1353, 1)\n",
          "output_type": "stream"
        }
      ]
    },
    {
      "cell_type": "markdown",
      "source": [
        "# **Preprocessing the Dataset to make it similar to Training Set**"
      ],
      "metadata": {
        "id": "RcgsTiMBm-LL"
      }
    },
    {
      "cell_type": "markdown",
      "source": [
        "**We have 4 dataframes for train dataset which have a lot of common columns, So let's merge them in order to make predictions on test set.**"
      ],
      "metadata": {
        "id": "yuGhQiZZm-LL"
      }
    },
    {
      "cell_type": "code",
      "source": [
        "# adding a feature named inpatient: 1=yes, 0=no\n",
        "\n",
        "train_inp['Hospitalized'] = 1\n",
        "train_out['Hospitalized'] = 0"
      ],
      "metadata": {
        "id": "wFOF5zsnm-LM",
        "execution": {
          "iopub.status.busy": "2024-03-13T07:14:14.426724Z",
          "iopub.execute_input": "2024-03-13T07:14:14.427198Z",
          "iopub.status.idle": "2024-03-13T07:14:14.446430Z",
          "shell.execute_reply.started": "2024-03-13T07:14:14.427160Z",
          "shell.execute_reply": "2024-03-13T07:14:14.444503Z"
        },
        "trusted": true
      },
      "execution_count": null,
      "outputs": []
    },
    {
      "cell_type": "code",
      "source": [
        "# merging the train dataframes\n",
        "\n",
        "common_cols=['BeneID', 'ClaimID', 'ClaimStartDt', 'ClaimEndDt', 'Provider',\n",
        "       'InscClaimAmtReimbursed', 'AttendingPhysician', 'OperatingPhysician',\n",
        "       'OtherPhysician', 'ClmDiagnosisCode_1', 'ClmDiagnosisCode_2',\n",
        "       'ClmDiagnosisCode_3', 'ClmDiagnosisCode_4', 'ClmDiagnosisCode_5',\n",
        "       'ClmDiagnosisCode_6', 'ClmDiagnosisCode_7', 'ClmDiagnosisCode_8',\n",
        "       'ClmDiagnosisCode_9', 'ClmDiagnosisCode_10', 'ClmProcedureCode_1',\n",
        "       'ClmProcedureCode_2', 'ClmProcedureCode_3', 'ClmProcedureCode_4',\n",
        "       'ClmProcedureCode_5', 'ClmProcedureCode_6', 'DeductibleAmtPaid',\n",
        "       'ClmAdmitDiagnosisCode', 'Hospitalized']\n",
        "\n",
        "train_merged = pd.merge(train_out, train_inp, left_on=common_cols,\n",
        "                        right_on=common_cols, how='outer')\n",
        "\n",
        "train_merged=pd.merge(train_merged, train_ben, on=\"BeneID\")\n",
        "\n",
        "train=pd.merge(train_merged, train_lab, on=\"Provider\")\n",
        "\n"
      ],
      "metadata": {
        "id": "LbTqO5w9m-LM",
        "execution": {
          "iopub.status.busy": "2024-03-13T07:14:14.448670Z",
          "iopub.execute_input": "2024-03-13T07:14:14.449340Z",
          "iopub.status.idle": "2024-03-13T07:14:16.243570Z",
          "shell.execute_reply.started": "2024-03-13T07:14:14.449301Z",
          "shell.execute_reply": "2024-03-13T07:14:16.242246Z"
        },
        "trusted": true
      },
      "execution_count": null,
      "outputs": []
    },
    {
      "cell_type": "markdown",
      "source": [
        "**Adding meaningful feature out of claim start and claim end date**"
      ],
      "metadata": {
        "id": "lIyhz-F1m-LM"
      }
    },
    {
      "cell_type": "code",
      "source": [
        "# adding claim period feature\n",
        "\n",
        "startdate= pd.to_datetime( train[\"ClaimStartDt\"] )\n",
        "enddate= pd.to_datetime( train[\"ClaimEndDt\"] )\n",
        "\n",
        "period = (enddate - startdate).dt.days\n",
        "train[\"Claim_Period\"] = period"
      ],
      "metadata": {
        "id": "cvUlhunmm-LM",
        "execution": {
          "iopub.status.busy": "2024-03-13T07:14:16.245162Z",
          "iopub.execute_input": "2024-03-13T07:14:16.245562Z",
          "iopub.status.idle": "2024-03-13T07:14:16.309712Z",
          "shell.execute_reply.started": "2024-03-13T07:14:16.245530Z",
          "shell.execute_reply": "2024-03-13T07:14:16.307939Z"
        },
        "trusted": true
      },
      "execution_count": null,
      "outputs": []
    },
    {
      "cell_type": "code",
      "source": [
        "# adding a meaningful feature out of admit date(hospitalization) and release date\n",
        "\n",
        "startdate= pd.to_datetime( train[\"AdmissionDt\"] )\n",
        "enddate= pd.to_datetime( train[\"DischargeDt\"] )\n",
        "\n",
        "period = ( enddate - startdate).dt.days\n",
        "train[\"Admit_Period\"] = period"
      ],
      "metadata": {
        "id": "27pqr8cfm-LM",
        "execution": {
          "iopub.status.busy": "2024-03-13T07:14:16.314986Z",
          "iopub.execute_input": "2024-03-13T07:14:16.315426Z",
          "iopub.status.idle": "2024-03-13T07:14:16.355027Z",
          "shell.execute_reply.started": "2024-03-13T07:14:16.315395Z",
          "shell.execute_reply": "2024-03-13T07:14:16.353742Z"
        },
        "trusted": true
      },
      "execution_count": null,
      "outputs": []
    },
    {
      "cell_type": "code",
      "source": [
        "# now we can drop the four dates as they are not needed\n",
        "\n",
        "train=train.drop(columns=[\"ClaimStartDt\" , \"ClaimEndDt\", \"AdmissionDt\", \"DischargeDt\"], axis=1)\n"
      ],
      "metadata": {
        "id": "TcM_L7EMm-LM",
        "execution": {
          "iopub.status.busy": "2024-03-13T07:14:16.358427Z",
          "iopub.execute_input": "2024-03-13T07:14:16.359802Z",
          "iopub.status.idle": "2024-03-13T07:14:16.418686Z",
          "shell.execute_reply.started": "2024-03-13T07:14:16.359755Z",
          "shell.execute_reply": "2024-03-13T07:14:16.416997Z"
        },
        "trusted": true
      },
      "execution_count": null,
      "outputs": []
    },
    {
      "cell_type": "code",
      "source": [
        "# Extract columns with names starting with \"ChronicCond\"\n",
        "\n",
        "chronic_cols_names = train.columns[train.columns.str.startswith(\"ChronicCond\")]\n",
        "\n",
        "# Replace values of 2 with 0 in the extracted columns\n",
        "\n",
        "train[chronic_cols_names] = train[chronic_cols_names].replace({2: 0})"
      ],
      "metadata": {
        "id": "2VCbMRAAm-LM",
        "execution": {
          "iopub.status.busy": "2024-03-13T07:14:16.420257Z",
          "iopub.execute_input": "2024-03-13T07:14:16.420768Z",
          "iopub.status.idle": "2024-03-13T07:14:16.457018Z",
          "shell.execute_reply.started": "2024-03-13T07:14:16.420727Z",
          "shell.execute_reply": "2024-03-13T07:14:16.455928Z"
        },
        "trusted": true
      },
      "execution_count": null,
      "outputs": []
    },
    {
      "cell_type": "code",
      "source": [
        "# Replace values of 2 with 0 in the \"Gender\" column\n",
        "\n",
        "train[\"Gender\"] = train[\"Gender\"].replace({2: 0})"
      ],
      "metadata": {
        "id": "r25E1veEm-LN",
        "execution": {
          "iopub.status.busy": "2024-03-13T07:14:16.458239Z",
          "iopub.execute_input": "2024-03-13T07:14:16.458552Z",
          "iopub.status.idle": "2024-03-13T07:14:16.468685Z",
          "shell.execute_reply.started": "2024-03-13T07:14:16.458524Z",
          "shell.execute_reply": "2024-03-13T07:14:16.467409Z"
        },
        "trusted": true
      },
      "execution_count": null,
      "outputs": []
    },
    {
      "cell_type": "code",
      "source": [
        "# Replace values of \"Y\" with 1 in the \"RenalDiseaseIndicator\" column\n",
        "\n",
        "train[\"RenalDiseaseIndicator\"] = train[\"RenalDiseaseIndicator\"].replace({\"Y\": 1})"
      ],
      "metadata": {
        "id": "kPMzywgam-LN",
        "execution": {
          "iopub.status.busy": "2024-03-13T07:14:16.470170Z",
          "iopub.execute_input": "2024-03-13T07:14:16.470573Z",
          "iopub.status.idle": "2024-03-13T07:14:16.499732Z",
          "shell.execute_reply.started": "2024-03-13T07:14:16.470517Z",
          "shell.execute_reply": "2024-03-13T07:14:16.498345Z"
        },
        "trusted": true
      },
      "execution_count": null,
      "outputs": []
    },
    {
      "cell_type": "code",
      "source": [
        "# Convert \"DOB\" and \"DOD\" columns to datetime\n",
        "\n",
        "birthdate = pd.to_datetime(train[\"DOB\"])\n",
        "enddate = pd.to_datetime(train[\"DOD\"])\n",
        "\n",
        "# Check whether the patient is dead or alive\n",
        "def alive_function(value):\n",
        "    if value == True:\n",
        "        return 1\n",
        "    else:\n",
        "        return 0\n",
        "\n",
        "alive = pd.isna(enddate).apply(alive_function)\n",
        "\n",
        "# Get the age of the patient\n",
        "\n",
        "max_date = enddate.dropna().max()\n",
        "enddate[pd.isna(enddate)] = max_date\n",
        "period = (((enddate - birthdate).dt.days / 365).astype(int))\n",
        "\n",
        "# Assign age and alive status to the train DataFrame\n",
        "\n",
        "train[\"Age\"] = period\n",
        "train[\"Alive\"] = alive"
      ],
      "metadata": {
        "id": "9ccUuE6am-LN",
        "execution": {
          "iopub.status.busy": "2024-03-13T07:14:16.501291Z",
          "iopub.execute_input": "2024-03-13T07:14:16.502370Z",
          "iopub.status.idle": "2024-03-13T07:14:16.607327Z",
          "shell.execute_reply.started": "2024-03-13T07:14:16.502322Z",
          "shell.execute_reply": "2024-03-13T07:14:16.605642Z"
        },
        "trusted": true
      },
      "execution_count": null,
      "outputs": []
    },
    {
      "cell_type": "code",
      "source": [
        "# dropping DOD, DOB from train\n",
        "\n",
        "train=train.drop(columns=[\"DOB\", \"DOD\"], axis=1)"
      ],
      "metadata": {
        "id": "82doTHgrm-LN",
        "execution": {
          "iopub.status.busy": "2024-03-13T07:14:16.608993Z",
          "iopub.execute_input": "2024-03-13T07:14:16.610087Z",
          "iopub.status.idle": "2024-03-13T07:14:16.674273Z",
          "shell.execute_reply.started": "2024-03-13T07:14:16.610041Z",
          "shell.execute_reply": "2024-03-13T07:14:16.673184Z"
        },
        "trusted": true
      },
      "execution_count": null,
      "outputs": []
    },
    {
      "cell_type": "code",
      "source": [
        "# Extracting a similarity feature out of Physician type\n",
        "\n",
        "def check_physician_similarity(data_row):\n",
        "    attending_operating = data_row[\"AttendingPhysician\"] == data_row[\"OperatingPhysician\"]\n",
        "    operating_other = data_row[\"OperatingPhysician\"] == data_row[\"OtherPhysician\"]\n",
        "    attending_other = data_row[\"AttendingPhysician\"] == data_row[\"OtherPhysician\"]\n",
        "\n",
        "    if attending_operating and operating_other:  # attending = operating = other\n",
        "        return 0\n",
        "    elif attending_operating and not operating_other:  # attending = operating != other\n",
        "        return 1\n",
        "    elif not attending_operating and operating_other:  # attending != operating = other\n",
        "        return 2\n",
        "    else:  # attending != operating != other\n",
        "        return 3\n",
        "\n",
        "# Apply the function to each row of the DataFrame\n",
        "train['Same_Physician'] = train.apply(check_physician_similarity, axis=1)\n",
        "\n",
        "# Define a function to count the number of non-null physician IDs\n",
        "def physician_count(row, list_count):\n",
        "    count = 0\n",
        "    for col in list_count:\n",
        "        if not pd.isnull(row[col]):\n",
        "            count += 1\n",
        "    return count\n",
        "\n",
        "list_count = [\"AttendingPhysician\", \"OperatingPhysician\", \"OtherPhysician\"]\n",
        "\n",
        "train['Physician_Count'] = train.apply(physician_count, axis=1, args=(list_count,))"
      ],
      "metadata": {
        "id": "RHetHHt2m-LN",
        "execution": {
          "iopub.status.busy": "2024-03-13T07:14:16.675656Z",
          "iopub.execute_input": "2024-03-13T07:14:16.676287Z",
          "iopub.status.idle": "2024-03-13T07:14:22.826565Z",
          "shell.execute_reply.started": "2024-03-13T07:14:16.676247Z",
          "shell.execute_reply": "2024-03-13T07:14:22.825186Z"
        },
        "trusted": true
      },
      "execution_count": null,
      "outputs": []
    },
    {
      "cell_type": "code",
      "source": [
        "cont_var=[\"InscClaimAmtReimbursed\",\"DeductibleAmtPaid\",\"NoOfMonths_PartACov\",\"NoOfMonths_PartBCov\",\n",
        "           \"IPAnnualReimbursementAmt\",\"IPAnnualDeductibleAmt\",\"OPAnnualReimbursementAmt\",\"OPAnnualDeductibleAmt\"]"
      ],
      "metadata": {
        "id": "FQlZN83Sm-LS",
        "execution": {
          "iopub.status.busy": "2024-03-13T07:14:22.827976Z",
          "iopub.execute_input": "2024-03-13T07:14:22.828298Z",
          "iopub.status.idle": "2024-03-13T07:14:22.833294Z",
          "shell.execute_reply.started": "2024-03-13T07:14:22.828272Z",
          "shell.execute_reply": "2024-03-13T07:14:22.832207Z"
        },
        "trusted": true
      },
      "execution_count": null,
      "outputs": []
    },
    {
      "cell_type": "code",
      "source": [
        "def groupby(df,by,vars_to_group,methods,col_ident,as_index=True,agg=False):\n",
        "    if agg:\n",
        "        grouped=df.groupby(by=by,as_index=as_index)[vars_to_group].agg(methods)\n",
        "        cols=['_'.join(col) for col in grouped.columns.values]\n",
        "        cols=[col_ident+\"_\"+col for col in cols]\n",
        "        grouped.columns=cols\n",
        "        return grouped\n",
        "\n",
        "    else:\n",
        "        concat=df.groupby(by=by,as_index=as_index)[vars_to_group].transform(methods[0])\n",
        "        cols=[ col_ident+\"_\"+col+\"_\"+methods[0] for col in concat.columns ]\n",
        "        concat.columns=cols\n",
        "\n",
        "        for method in methods[1:]:\n",
        "            grouped=df.groupby(by=by,as_index=as_index)[vars_to_group].transform(method)\n",
        "            cols=[col_ident+\"_\"+col+\"_\"+method for col in grouped.columns]\n",
        "            grouped.columns=cols\n",
        "            concat=pd.concat([concat,grouped],axis=1)\n",
        "\n",
        "        return concat"
      ],
      "metadata": {
        "id": "eoVoLKeYm-LT",
        "execution": {
          "iopub.status.busy": "2024-03-13T07:14:22.834670Z",
          "iopub.execute_input": "2024-03-13T07:14:22.835056Z",
          "iopub.status.idle": "2024-03-13T07:14:22.847556Z",
          "shell.execute_reply.started": "2024-03-13T07:14:22.835023Z",
          "shell.execute_reply": "2024-03-13T07:14:22.846436Z"
        },
        "trusted": true
      },
      "execution_count": null,
      "outputs": []
    },
    {
      "cell_type": "code",
      "source": [
        "traincopy=train"
      ],
      "metadata": {
        "id": "JFO3Y0cem-LT",
        "execution": {
          "iopub.status.busy": "2024-03-13T07:14:22.848953Z",
          "iopub.execute_input": "2024-03-13T07:14:22.849387Z",
          "iopub.status.idle": "2024-03-13T07:14:22.864326Z",
          "shell.execute_reply.started": "2024-03-13T07:14:22.849358Z",
          "shell.execute_reply": "2024-03-13T07:14:22.863092Z"
        },
        "trusted": true
      },
      "execution_count": null,
      "outputs": []
    },
    {
      "cell_type": "code",
      "source": [
        "feat_provider=groupby(traincopy,[\"Provider\"],cont_var,[\"mean\",\"std\"],\"Provider\",\n",
        "                       True,False)"
      ],
      "metadata": {
        "id": "aA2Gq6p9m-LT",
        "execution": {
          "iopub.status.busy": "2024-03-13T07:14:22.865775Z",
          "iopub.execute_input": "2024-03-13T07:14:22.867274Z",
          "iopub.status.idle": "2024-03-13T07:14:22.962064Z",
          "shell.execute_reply.started": "2024-03-13T07:14:22.867134Z",
          "shell.execute_reply": "2024-03-13T07:14:22.960920Z"
        },
        "trusted": true
      },
      "execution_count": null,
      "outputs": []
    },
    {
      "cell_type": "code",
      "source": [
        "# Similarly producing 3 more sets of new features by accumulating existing features\n",
        "\n",
        "feat_bene=groupby(traincopy,[\"BeneID\"],cont_var,[\"mean\",\"std\"],\"Bene\",\n",
        "                       True,False)\n",
        "\n",
        "feat_diagcode=groupby(traincopy,[\"ClmDiagnosisCode_1\"],cont_var,[\"mean\",\"std\"],\"DiagCode\",\n",
        "                       True,False)\n",
        "\n",
        "feat_proccode=groupby(traincopy,[\"ClmProcedureCode_1\"],cont_var,[\"mean\",\"std\"],\"ProcCode\",\n",
        "                       True,False)\n"
      ],
      "metadata": {
        "id": "FEAhPSA9m-LT",
        "execution": {
          "iopub.status.busy": "2024-03-13T07:14:22.963461Z",
          "iopub.execute_input": "2024-03-13T07:14:22.963777Z",
          "iopub.status.idle": "2024-03-13T07:14:23.305700Z",
          "shell.execute_reply.started": "2024-03-13T07:14:22.963750Z",
          "shell.execute_reply": "2024-03-13T07:14:23.303724Z"
        },
        "trusted": true
      },
      "execution_count": null,
      "outputs": []
    },
    {
      "cell_type": "code",
      "source": [
        "prev_feat=[\"Same_Physician\",\"Physician_Count\",\"Claim_Period\",\"Admit_Period\",\"Age\",\"Alive\",\"Provider\"]\n",
        "prevfeat=traincopy[prev_feat]"
      ],
      "metadata": {
        "id": "hzud6moBm-LU",
        "execution": {
          "iopub.status.busy": "2024-03-13T07:14:23.307498Z",
          "iopub.execute_input": "2024-03-13T07:14:23.308250Z",
          "iopub.status.idle": "2024-03-13T07:14:23.320261Z",
          "shell.execute_reply.started": "2024-03-13T07:14:23.308217Z",
          "shell.execute_reply": "2024-03-13T07:14:23.318970Z"
        },
        "trusted": true
      },
      "execution_count": null,
      "outputs": []
    },
    {
      "cell_type": "code",
      "source": [
        "agg_data=pd.concat([prevfeat,feat_provider,feat_bene,feat_diagcode,feat_proccode],axis=1)"
      ],
      "metadata": {
        "id": "DE4Kh8xAm-LU",
        "execution": {
          "iopub.status.busy": "2024-03-13T07:14:23.322244Z",
          "iopub.execute_input": "2024-03-13T07:14:23.322833Z",
          "iopub.status.idle": "2024-03-13T07:14:23.416056Z",
          "shell.execute_reply.started": "2024-03-13T07:14:23.322786Z",
          "shell.execute_reply": "2024-03-13T07:14:23.414900Z"
        },
        "trusted": true
      },
      "execution_count": null,
      "outputs": []
    },
    {
      "cell_type": "code",
      "source": [
        "grouped=agg_data.groupby(by=[\"Provider\"]).agg(\"mean\").reset_index()"
      ],
      "metadata": {
        "id": "Vy-UHw2Ym-LU",
        "execution": {
          "iopub.status.busy": "2024-03-13T07:14:23.417485Z",
          "iopub.execute_input": "2024-03-13T07:14:23.417844Z",
          "iopub.status.idle": "2024-03-13T07:14:23.482593Z",
          "shell.execute_reply.started": "2024-03-13T07:14:23.417795Z",
          "shell.execute_reply": "2024-03-13T07:14:23.481837Z"
        },
        "trusted": true
      },
      "execution_count": null,
      "outputs": []
    },
    {
      "cell_type": "code",
      "source": [
        "grouped=grouped.fillna(0)\n",
        "\n",
        "features=grouped.iloc[:,1:]\n"
      ],
      "metadata": {
        "id": "fEIxjUYlm-LV",
        "execution": {
          "iopub.status.busy": "2024-03-13T07:14:23.483757Z",
          "iopub.execute_input": "2024-03-13T07:14:23.484234Z",
          "iopub.status.idle": "2024-03-13T07:14:23.490069Z",
          "shell.execute_reply.started": "2024-03-13T07:14:23.484206Z",
          "shell.execute_reply": "2024-03-13T07:14:23.488746Z"
        },
        "trusted": true
      },
      "execution_count": null,
      "outputs": []
    },
    {
      "cell_type": "code",
      "source": [
        "# Using Z-Score Normalization for features\n",
        "\n",
        "from sklearn.preprocessing import StandardScaler\n",
        "scaler = StandardScaler()\n",
        "featuresstand=scaler.fit_transform(features)"
      ],
      "metadata": {
        "id": "6ie3mwyVm-LW",
        "execution": {
          "iopub.status.busy": "2024-03-13T07:14:23.491696Z",
          "iopub.execute_input": "2024-03-13T07:14:23.492024Z",
          "iopub.status.idle": "2024-03-13T07:14:23.989731Z",
          "shell.execute_reply.started": "2024-03-13T07:14:23.491998Z",
          "shell.execute_reply": "2024-03-13T07:14:23.988627Z"
        },
        "trusted": true
      },
      "execution_count": null,
      "outputs": []
    },
    {
      "cell_type": "code",
      "source": [
        "x_test=features\n",
        "x_test.shape"
      ],
      "metadata": {
        "execution": {
          "iopub.status.busy": "2024-03-13T07:14:23.994415Z",
          "iopub.execute_input": "2024-03-13T07:14:23.994776Z",
          "iopub.status.idle": "2024-03-13T07:14:24.002900Z",
          "shell.execute_reply.started": "2024-03-13T07:14:23.994749Z",
          "shell.execute_reply": "2024-03-13T07:14:24.001841Z"
        },
        "trusted": true,
        "id": "f0RB5sfMre9Q",
        "outputId": "bdc8abbd-2360-44d0-8804-1ec93c0e4294"
      },
      "execution_count": null,
      "outputs": [
        {
          "execution_count": 28,
          "output_type": "execute_result",
          "data": {
            "text/plain": "(1353, 70)"
          },
          "metadata": {}
        }
      ]
    },
    {
      "cell_type": "markdown",
      "source": [
        "# Model Inference from Saved XGBoost model"
      ],
      "metadata": {
        "id": "sIFHFhUhm-LW"
      }
    },
    {
      "cell_type": "code",
      "source": [
        "import joblib\n",
        "\n",
        "# Load the saved model from file\n",
        "loaded_model = joblib.load('/kaggle/input/xgboostsaved/other/xgboost_saved/1/xgb_model.pkl')\n",
        "\n",
        "# Perform inference using the loaded model\n",
        "y_pred = loaded_model.predict(x_test)\n"
      ],
      "metadata": {
        "execution": {
          "iopub.status.busy": "2024-03-13T07:14:24.004226Z",
          "iopub.execute_input": "2024-03-13T07:14:24.004552Z",
          "iopub.status.idle": "2024-03-13T07:14:24.421756Z",
          "shell.execute_reply.started": "2024-03-13T07:14:24.004519Z",
          "shell.execute_reply": "2024-03-13T07:14:24.420228Z"
        },
        "trusted": true,
        "id": "2IEFz25Ere9Q"
      },
      "execution_count": null,
      "outputs": []
    },
    {
      "cell_type": "code",
      "source": [
        "y_pred"
      ],
      "metadata": {
        "execution": {
          "iopub.status.busy": "2024-03-13T07:14:24.423724Z",
          "iopub.execute_input": "2024-03-13T07:14:24.424267Z",
          "iopub.status.idle": "2024-03-13T07:14:24.431533Z",
          "shell.execute_reply.started": "2024-03-13T07:14:24.424228Z",
          "shell.execute_reply": "2024-03-13T07:14:24.430416Z"
        },
        "trusted": true,
        "id": "26hQorAFre9R",
        "outputId": "6ba7f994-d111-4fe7-822c-69fb89893cc7"
      },
      "execution_count": null,
      "outputs": [
        {
          "execution_count": 30,
          "output_type": "execute_result",
          "data": {
            "text/plain": "array([0, 0, 1, ..., 0, 0, 0])"
          },
          "metadata": {}
        }
      ]
    },
    {
      "cell_type": "code",
      "source": [
        "len(y_pred)"
      ],
      "metadata": {
        "execution": {
          "iopub.status.busy": "2024-03-13T07:14:24.433536Z",
          "iopub.execute_input": "2024-03-13T07:14:24.434413Z",
          "iopub.status.idle": "2024-03-13T07:14:24.448334Z",
          "shell.execute_reply.started": "2024-03-13T07:14:24.434369Z",
          "shell.execute_reply": "2024-03-13T07:14:24.446834Z"
        },
        "trusted": true,
        "id": "Pw_4WjAjre9R",
        "outputId": "d4d678df-66b1-4bdf-c782-6ff0251c05c0"
      },
      "execution_count": null,
      "outputs": [
        {
          "execution_count": 31,
          "output_type": "execute_result",
          "data": {
            "text/plain": "1353"
          },
          "metadata": {}
        }
      ]
    },
    {
      "cell_type": "code",
      "source": [
        "y_pred_int = y_pred.astype(int)\n",
        "\n",
        "# Save the integer array to a CSV file\n",
        "np.savetxt(\"predictions_on_test.csv\", y_pred_int, delimiter=\",\")"
      ],
      "metadata": {
        "execution": {
          "iopub.status.busy": "2024-03-13T07:14:24.450118Z",
          "iopub.execute_input": "2024-03-13T07:14:24.450986Z",
          "iopub.status.idle": "2024-03-13T07:14:24.467114Z",
          "shell.execute_reply.started": "2024-03-13T07:14:24.450946Z",
          "shell.execute_reply": "2024-03-13T07:14:24.465367Z"
        },
        "trusted": true,
        "id": "f80gc-mKre9R"
      },
      "execution_count": null,
      "outputs": []
    }
  ]
}